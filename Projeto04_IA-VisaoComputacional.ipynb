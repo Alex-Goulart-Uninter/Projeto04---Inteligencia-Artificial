{
 "cells": [
  {
   "cell_type": "markdown",
   "metadata": {},
   "source": [
    "Laços de repetição (loopings) com while"
   ]
  },
  {
   "cell_type": "code",
   "execution_count": null,
   "metadata": {},
   "outputs": [],
   "source": [
    "contador = 5\n",
    "\n",
    "while contador > 0:\n",
    "    print(contador)\n",
    "    contador = contador - 1"
   ]
  },
  {
   "cell_type": "markdown",
   "metadata": {},
   "source": [
    "Testes condicionais com if"
   ]
  },
  {
   "cell_type": "code",
   "execution_count": null,
   "metadata": {},
   "outputs": [],
   "source": [
    "linguagem = \"Python\"\n",
    "\n",
    "if linguagem == \"Python\":\n",
    "    print(\"Melhor linguagem do mundo!\")"
   ]
  },
  {
   "cell_type": "markdown",
   "metadata": {},
   "source": [
    "Loopings infinitos com while e if"
   ]
  },
  {
   "cell_type": "code",
   "execution_count": 4,
   "metadata": {},
   "outputs": [
    {
     "name": "stdout",
     "output_type": "stream",
     "text": [
      "Alex Marcos\n",
      "Icaro Gabriel\n",
      "Italo Henrique\n",
      "Monica\n",
      "parar\n"
     ]
    }
   ],
   "source": [
    "while True:\n",
    "    texto = input(\"Digite Algo\")\n",
    "    print(texto)\n",
    "    if texto == 'parar':\n",
    "        break"
   ]
  }
 ],
 "metadata": {
  "kernelspec": {
   "display_name": "Python 3",
   "language": "python",
   "name": "python3"
  },
  "language_info": {
   "codemirror_mode": {
    "name": "ipython",
    "version": 3
   },
   "file_extension": ".py",
   "mimetype": "text/x-python",
   "name": "python",
   "nbconvert_exporter": "python",
   "pygments_lexer": "ipython3",
   "version": "3.12.4"
  }
 },
 "nbformat": 4,
 "nbformat_minor": 2
}
